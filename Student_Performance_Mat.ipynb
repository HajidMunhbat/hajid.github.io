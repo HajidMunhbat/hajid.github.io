{
  "nbformat": 4,
  "nbformat_minor": 0,
  "metadata": {
    "colab": {
      "name": "Student_Performance_Mat.ipynb",
      "provenance": [],
      "authorship_tag": "ABX9TyNR0UNSoKRjPsLjeFtQSycu",
      "include_colab_link": true
    },
    "kernelspec": {
      "name": "python3",
      "display_name": "Python 3"
    },
    "language_info": {
      "name": "python"
    }
  },
  "cells": [
    {
      "cell_type": "markdown",
      "metadata": {
        "id": "view-in-github",
        "colab_type": "text"
      },
      "source": [
        "<a href=\"https://colab.research.google.com/github/HajidMunhbat/hajid.github.io/blob/main/Student_Performance_Mat.ipynb\" target=\"_parent\"><img src=\"https://colab.research.google.com/assets/colab-badge.svg\" alt=\"Open In Colab\"/></a>"
      ]
    },
    {
      "cell_type": "code",
      "execution_count": 2,
      "metadata": {
        "colab": {
          "base_uri": "https://localhost:8080/",
          "height": 297
        },
        "id": "vgSxCfELp9PV",
        "outputId": "6f0a84be-5d54-4bb2-fb7a-eaa91adaf095"
      },
      "outputs": [
        {
          "output_type": "execute_result",
          "data": {
            "text/plain": [
              "  school sex  age address famsize Pstatus  Medu  Fedu     Mjob      Fjob  ...  \\\n",
              "0     GP   F   18       U     GT3       A     4     4  at_home   teacher  ...   \n",
              "1     GP   F   17       U     GT3       T     1     1  at_home     other  ...   \n",
              "2     GP   F   15       U     LE3       T     1     1  at_home     other  ...   \n",
              "3     GP   F   15       U     GT3       T     4     2   health  services  ...   \n",
              "4     GP   F   16       U     GT3       T     3     3    other     other  ...   \n",
              "\n",
              "  famrel freetime  goout  Dalc  Walc health absences  G1  G2  G3  \n",
              "0      4        3      4     1     1      3        6   5   6   6  \n",
              "1      5        3      3     1     1      3        4   5   5   6  \n",
              "2      4        3      2     2     3      3       10   7   8  10  \n",
              "3      3        2      2     1     1      5        2  15  14  15  \n",
              "4      4        3      2     1     2      5        4   6  10  10  \n",
              "\n",
              "[5 rows x 33 columns]"
            ],
            "text/html": [
              "\n",
              "  <div id=\"df-b1dd469e-41c9-4333-a6e3-68dec4c09f1b\">\n",
              "    <div class=\"colab-df-container\">\n",
              "      <div>\n",
              "<style scoped>\n",
              "    .dataframe tbody tr th:only-of-type {\n",
              "        vertical-align: middle;\n",
              "    }\n",
              "\n",
              "    .dataframe tbody tr th {\n",
              "        vertical-align: top;\n",
              "    }\n",
              "\n",
              "    .dataframe thead th {\n",
              "        text-align: right;\n",
              "    }\n",
              "</style>\n",
              "<table border=\"1\" class=\"dataframe\">\n",
              "  <thead>\n",
              "    <tr style=\"text-align: right;\">\n",
              "      <th></th>\n",
              "      <th>school</th>\n",
              "      <th>sex</th>\n",
              "      <th>age</th>\n",
              "      <th>address</th>\n",
              "      <th>famsize</th>\n",
              "      <th>Pstatus</th>\n",
              "      <th>Medu</th>\n",
              "      <th>Fedu</th>\n",
              "      <th>Mjob</th>\n",
              "      <th>Fjob</th>\n",
              "      <th>...</th>\n",
              "      <th>famrel</th>\n",
              "      <th>freetime</th>\n",
              "      <th>goout</th>\n",
              "      <th>Dalc</th>\n",
              "      <th>Walc</th>\n",
              "      <th>health</th>\n",
              "      <th>absences</th>\n",
              "      <th>G1</th>\n",
              "      <th>G2</th>\n",
              "      <th>G3</th>\n",
              "    </tr>\n",
              "  </thead>\n",
              "  <tbody>\n",
              "    <tr>\n",
              "      <th>0</th>\n",
              "      <td>GP</td>\n",
              "      <td>F</td>\n",
              "      <td>18</td>\n",
              "      <td>U</td>\n",
              "      <td>GT3</td>\n",
              "      <td>A</td>\n",
              "      <td>4</td>\n",
              "      <td>4</td>\n",
              "      <td>at_home</td>\n",
              "      <td>teacher</td>\n",
              "      <td>...</td>\n",
              "      <td>4</td>\n",
              "      <td>3</td>\n",
              "      <td>4</td>\n",
              "      <td>1</td>\n",
              "      <td>1</td>\n",
              "      <td>3</td>\n",
              "      <td>6</td>\n",
              "      <td>5</td>\n",
              "      <td>6</td>\n",
              "      <td>6</td>\n",
              "    </tr>\n",
              "    <tr>\n",
              "      <th>1</th>\n",
              "      <td>GP</td>\n",
              "      <td>F</td>\n",
              "      <td>17</td>\n",
              "      <td>U</td>\n",
              "      <td>GT3</td>\n",
              "      <td>T</td>\n",
              "      <td>1</td>\n",
              "      <td>1</td>\n",
              "      <td>at_home</td>\n",
              "      <td>other</td>\n",
              "      <td>...</td>\n",
              "      <td>5</td>\n",
              "      <td>3</td>\n",
              "      <td>3</td>\n",
              "      <td>1</td>\n",
              "      <td>1</td>\n",
              "      <td>3</td>\n",
              "      <td>4</td>\n",
              "      <td>5</td>\n",
              "      <td>5</td>\n",
              "      <td>6</td>\n",
              "    </tr>\n",
              "    <tr>\n",
              "      <th>2</th>\n",
              "      <td>GP</td>\n",
              "      <td>F</td>\n",
              "      <td>15</td>\n",
              "      <td>U</td>\n",
              "      <td>LE3</td>\n",
              "      <td>T</td>\n",
              "      <td>1</td>\n",
              "      <td>1</td>\n",
              "      <td>at_home</td>\n",
              "      <td>other</td>\n",
              "      <td>...</td>\n",
              "      <td>4</td>\n",
              "      <td>3</td>\n",
              "      <td>2</td>\n",
              "      <td>2</td>\n",
              "      <td>3</td>\n",
              "      <td>3</td>\n",
              "      <td>10</td>\n",
              "      <td>7</td>\n",
              "      <td>8</td>\n",
              "      <td>10</td>\n",
              "    </tr>\n",
              "    <tr>\n",
              "      <th>3</th>\n",
              "      <td>GP</td>\n",
              "      <td>F</td>\n",
              "      <td>15</td>\n",
              "      <td>U</td>\n",
              "      <td>GT3</td>\n",
              "      <td>T</td>\n",
              "      <td>4</td>\n",
              "      <td>2</td>\n",
              "      <td>health</td>\n",
              "      <td>services</td>\n",
              "      <td>...</td>\n",
              "      <td>3</td>\n",
              "      <td>2</td>\n",
              "      <td>2</td>\n",
              "      <td>1</td>\n",
              "      <td>1</td>\n",
              "      <td>5</td>\n",
              "      <td>2</td>\n",
              "      <td>15</td>\n",
              "      <td>14</td>\n",
              "      <td>15</td>\n",
              "    </tr>\n",
              "    <tr>\n",
              "      <th>4</th>\n",
              "      <td>GP</td>\n",
              "      <td>F</td>\n",
              "      <td>16</td>\n",
              "      <td>U</td>\n",
              "      <td>GT3</td>\n",
              "      <td>T</td>\n",
              "      <td>3</td>\n",
              "      <td>3</td>\n",
              "      <td>other</td>\n",
              "      <td>other</td>\n",
              "      <td>...</td>\n",
              "      <td>4</td>\n",
              "      <td>3</td>\n",
              "      <td>2</td>\n",
              "      <td>1</td>\n",
              "      <td>2</td>\n",
              "      <td>5</td>\n",
              "      <td>4</td>\n",
              "      <td>6</td>\n",
              "      <td>10</td>\n",
              "      <td>10</td>\n",
              "    </tr>\n",
              "  </tbody>\n",
              "</table>\n",
              "<p>5 rows × 33 columns</p>\n",
              "</div>\n",
              "      <button class=\"colab-df-convert\" onclick=\"convertToInteractive('df-b1dd469e-41c9-4333-a6e3-68dec4c09f1b')\"\n",
              "              title=\"Convert this dataframe to an interactive table.\"\n",
              "              style=\"display:none;\">\n",
              "        \n",
              "  <svg xmlns=\"http://www.w3.org/2000/svg\" height=\"24px\"viewBox=\"0 0 24 24\"\n",
              "       width=\"24px\">\n",
              "    <path d=\"M0 0h24v24H0V0z\" fill=\"none\"/>\n",
              "    <path d=\"M18.56 5.44l.94 2.06.94-2.06 2.06-.94-2.06-.94-.94-2.06-.94 2.06-2.06.94zm-11 1L8.5 8.5l.94-2.06 2.06-.94-2.06-.94L8.5 2.5l-.94 2.06-2.06.94zm10 10l.94 2.06.94-2.06 2.06-.94-2.06-.94-.94-2.06-.94 2.06-2.06.94z\"/><path d=\"M17.41 7.96l-1.37-1.37c-.4-.4-.92-.59-1.43-.59-.52 0-1.04.2-1.43.59L10.3 9.45l-7.72 7.72c-.78.78-.78 2.05 0 2.83L4 21.41c.39.39.9.59 1.41.59.51 0 1.02-.2 1.41-.59l7.78-7.78 2.81-2.81c.8-.78.8-2.07 0-2.86zM5.41 20L4 18.59l7.72-7.72 1.47 1.35L5.41 20z\"/>\n",
              "  </svg>\n",
              "      </button>\n",
              "      \n",
              "  <style>\n",
              "    .colab-df-container {\n",
              "      display:flex;\n",
              "      flex-wrap:wrap;\n",
              "      gap: 12px;\n",
              "    }\n",
              "\n",
              "    .colab-df-convert {\n",
              "      background-color: #E8F0FE;\n",
              "      border: none;\n",
              "      border-radius: 50%;\n",
              "      cursor: pointer;\n",
              "      display: none;\n",
              "      fill: #1967D2;\n",
              "      height: 32px;\n",
              "      padding: 0 0 0 0;\n",
              "      width: 32px;\n",
              "    }\n",
              "\n",
              "    .colab-df-convert:hover {\n",
              "      background-color: #E2EBFA;\n",
              "      box-shadow: 0px 1px 2px rgba(60, 64, 67, 0.3), 0px 1px 3px 1px rgba(60, 64, 67, 0.15);\n",
              "      fill: #174EA6;\n",
              "    }\n",
              "\n",
              "    [theme=dark] .colab-df-convert {\n",
              "      background-color: #3B4455;\n",
              "      fill: #D2E3FC;\n",
              "    }\n",
              "\n",
              "    [theme=dark] .colab-df-convert:hover {\n",
              "      background-color: #434B5C;\n",
              "      box-shadow: 0px 1px 3px 1px rgba(0, 0, 0, 0.15);\n",
              "      filter: drop-shadow(0px 1px 2px rgba(0, 0, 0, 0.3));\n",
              "      fill: #FFFFFF;\n",
              "    }\n",
              "  </style>\n",
              "\n",
              "      <script>\n",
              "        const buttonEl =\n",
              "          document.querySelector('#df-b1dd469e-41c9-4333-a6e3-68dec4c09f1b button.colab-df-convert');\n",
              "        buttonEl.style.display =\n",
              "          google.colab.kernel.accessAllowed ? 'block' : 'none';\n",
              "\n",
              "        async function convertToInteractive(key) {\n",
              "          const element = document.querySelector('#df-b1dd469e-41c9-4333-a6e3-68dec4c09f1b');\n",
              "          const dataTable =\n",
              "            await google.colab.kernel.invokeFunction('convertToInteractive',\n",
              "                                                     [key], {});\n",
              "          if (!dataTable) return;\n",
              "\n",
              "          const docLinkHtml = 'Like what you see? Visit the ' +\n",
              "            '<a target=\"_blank\" href=https://colab.research.google.com/notebooks/data_table.ipynb>data table notebook</a>'\n",
              "            + ' to learn more about interactive tables.';\n",
              "          element.innerHTML = '';\n",
              "          dataTable['output_type'] = 'display_data';\n",
              "          await google.colab.output.renderOutput(dataTable, element);\n",
              "          const docLink = document.createElement('div');\n",
              "          docLink.innerHTML = docLinkHtml;\n",
              "          element.appendChild(docLink);\n",
              "        }\n",
              "      </script>\n",
              "    </div>\n",
              "  </div>\n",
              "  "
            ]
          },
          "metadata": {},
          "execution_count": 2
        }
      ],
      "source": [
        "import pandas as pd\n",
        "import numpy as np\n",
        "import sklearn \n",
        "from sklearn import linear_model\n",
        "from sklearn.utils import shuffle\n",
        "import matplotlib.pyplot as pyplot\n",
        "import pickle \n",
        "from matplotlib import style\n",
        "data = pd.read_csv('student-mat.csv', sep=';')\n",
        "data.head()"
      ]
    },
    {
      "cell_type": "code",
      "source": [
        "data = data[['G1', 'G2', 'G3', 'studytime', 'failures', 'absences']]\n",
        "predict = 'G3'\n",
        "\n",
        "x = np.array(data.drop(['G3'], 1))\n",
        "y = np.array(data[predict])\n",
        "x_train, x_test, y_train, y_test = sklearn.model_selection.train_test_split(x, y, test_size=0.1)\n",
        "'''\n",
        "best = 0\n",
        "for _ in range(30):\n",
        "  x_train, x_test, y_train, y_test = sklearn.model_selection.train_test_split(x, y, test_size=0.1)\n",
        "  linear = linear_model.LinearRegression()\n",
        "\n",
        "  linear.fit(x_train, y_train)\n",
        "  acc = linear.score(x_test, y_test)\n",
        "  print(acc)\n",
        "\n",
        "  if acc > best:\n",
        "    best = acc\n",
        "    with open('studentmodel.pickle', 'wb') as f:\n",
        "      pickle.dump(linear, f)'''"
      ],
      "metadata": {
        "colab": {
          "base_uri": "https://localhost:8080/"
        },
        "id": "Vq58OWubqQ3l",
        "outputId": "66c2d01e-898c-483d-ba3c-33a2001c39d5"
      },
      "execution_count": 7,
      "outputs": [
        {
          "output_type": "stream",
          "name": "stdout",
          "text": [
            "0.8377261374315134\n",
            "0.8486143757124364\n",
            "0.7678293561736069\n",
            "0.8023227019749749\n",
            "0.8213913837944885\n",
            "0.7720839136429414\n",
            "0.921105629712309\n",
            "0.901364300848894\n",
            "0.8312009033548287\n",
            "0.8441569037795779\n",
            "0.8281073536862515\n",
            "0.7734524443605254\n",
            "0.8058641196619559\n",
            "0.7669113365687734\n",
            "0.7309145549655185\n",
            "0.777987930551545\n",
            "0.8123035264287811\n",
            "0.7074352174575358\n",
            "0.8493066503653142\n",
            "0.8676803913348174\n",
            "0.9126143318232542\n",
            "0.8003905352124715\n",
            "0.8320845993387388\n",
            "0.8638476129776577\n",
            "0.8513301158802052\n",
            "0.7675839790142098\n",
            "0.8093555088090143\n",
            "0.8158464659876115\n",
            "0.7171944841912218\n",
            "0.8520357746802549\n"
          ]
        },
        {
          "output_type": "stream",
          "name": "stderr",
          "text": [
            "/usr/local/lib/python3.7/dist-packages/ipykernel_launcher.py:4: FutureWarning: In a future version of pandas all arguments of DataFrame.drop except for the argument 'labels' will be keyword-only\n",
            "  after removing the cwd from sys.path.\n"
          ]
        }
      ]
    },
    {
      "cell_type": "code",
      "source": [
        "pickle_in = open('studentmodel.pickle', 'rb')\n",
        "linear = pickle.load(pickle_in)"
      ],
      "metadata": {
        "id": "xELiIetgqRA9"
      },
      "execution_count": 8,
      "outputs": []
    },
    {
      "cell_type": "code",
      "source": [
        "print('Co: \\n', linear.coef_)\n",
        "print('Intercept: \\n', linear.intercept_)"
      ],
      "metadata": {
        "colab": {
          "base_uri": "https://localhost:8080/"
        },
        "id": "q78UDWIWqREK",
        "outputId": "c55f0690-7e13-4659-ddf6-66b2ca783bc0"
      },
      "execution_count": 9,
      "outputs": [
        {
          "output_type": "stream",
          "name": "stdout",
          "text": [
            "Co: \n",
            " [ 0.14589786  0.99536554 -0.19726742 -0.1819805   0.03783103]\n",
            "Intercept: \n",
            " -1.6172262344150177\n"
          ]
        }
      ]
    },
    {
      "cell_type": "code",
      "source": [
        "predictions = linear.predict(x_test)\n",
        "\n",
        "for x in range(len(predictions)):\n",
        "  print(predictions[x], x_test[x], y_test[x])"
      ],
      "metadata": {
        "colab": {
          "base_uri": "https://localhost:8080/"
        },
        "id": "PMjNGjqRqRH4",
        "outputId": "ed2c0421-79df-49ae-ab19-c1d30a0b2419"
      },
      "execution_count": 10,
      "outputs": [
        {
          "output_type": "stream",
          "name": "stdout",
          "text": [
            "18.955233788992516 [18 18  1  0  6] 18\n",
            "15.258514095461265 [15 15  2  0  4] 15\n",
            "9.476535017149295 [10 10  2  0  2] 11\n",
            "-0.8222151175713108 [12  0  3  2  0] 0\n",
            "14.915348807921507 [14 15  3  0  4] 16\n",
            "13.075941850131967 [14 13  3  0  8] 14\n",
            "8.963179362475815 [ 7 10  2  0  0] 11\n",
            "12.81122317572198 [10 13  1  0  6] 13\n",
            "14.141543193965413 [15 14  3  0  6] 14\n",
            "16.32411543929471 [16 16  2  0  2] 17\n",
            "15.182852035603808 [15 15  2  0  2] 14\n",
            "5.285243389354747 [6 7 2 3 0] 0\n",
            "13.046223093160679 [14 13  2  0  2] 13\n",
            "14.090173636303005 [16 14  4  0  6] 15\n",
            "11.683399764673645 [12 12  2  0  0] 11\n",
            "14.909922553145268 [15 15  3  0  0] 15\n",
            "3.8458800585522424 [5 5 2 0 4] 6\n",
            "10.939312907688839 [13 11  3  0  8] 11\n",
            "4.911481402385688 [6 6 2 0 2] 6\n",
            "14.961292110807676 [14 15  2  0  0] 15\n",
            "7.118346149910035 [8 8 2 0 0] 0\n",
            "12.900325228222004 [13 13  2  0  2] 11\n",
            "13.208399722428073 [12 13  2  0 14] 12\n",
            "8.359564115653443 [10  9  3  0  4] 9\n",
            "11.9391128621811 [15 12  2  1  0] 12\n",
            "14.314518114371447 [14 14  1  0  4] 14\n",
            "10.784409465847627 [11 11  1  1  6] 10\n",
            "3.4917797344513746 [6 5 1 3 0] 0\n",
            "7.426420644116105 [ 7  8  2  0 12] 8\n",
            "2.824292557946392 [7 4 1 2 0] 0\n",
            "11.915812199022257 [11 12  2  0 10] 13\n",
            "10.54756261575898 [10 11  2  0  4] 9\n",
            "14.86676380353141 [12 15  1  0  0] 15\n",
            "13.96592657205545 [14 14  2  0  0] 14\n",
            "8.556831538254526 [10  9  2  0  4] 9\n",
            "6.403084745951421 [8 7 1 1 7] 8\n",
            "10.471900555901524 [10 11  2  0  2] 11\n",
            "16.307890893379835 [16 16  4  0 12] 16\n",
            "11.30861763007359 [12 11  1  1 16] 12\n",
            "13.580377515886322 [11 12  2  0 54] 11\n"
          ]
        }
      ]
    },
    {
      "cell_type": "code",
      "source": [
        "p = 'G1'\n",
        "style.use('ggplot')\n",
        "pyplot.scatter(data[p], data['G3'])\n",
        "pyplot.xlabel(p)\n",
        "pyplot.ylabel('Final Grade')\n",
        "pyplot.show()"
      ],
      "metadata": {
        "colab": {
          "base_uri": "https://localhost:8080/",
          "height": 282
        },
        "id": "G88bT0URt8RJ",
        "outputId": "cc657048-8325-4073-f9f1-3906403363b9"
      },
      "execution_count": 11,
      "outputs": [
        {
          "output_type": "display_data",
          "data": {
            "text/plain": [
              "<Figure size 432x288 with 1 Axes>"
            ],
            "image/png": "[encoded data removed]"
          },
          "metadata": {}
        }
      ]
    },
    {
      "cell_type": "code",
      "source": [
        ""
      ],
      "metadata": {
        "id": "txTyT1q0ux26"
      },
      "execution_count": null,
      "outputs": []
    },
    {
      "cell_type": "code",
      "source": [
        ""
      ],
      "metadata": {
        "id": "uJFbJ0j6ux8F"
      },
      "execution_count": null,
      "outputs": []
    },
    {
      "cell_type": "code",
      "source": [
        ""
      ],
      "metadata": {
        "id": "3MBqviAUuyBT"
      },
      "execution_count": null,
      "outputs": []
    },
    {
      "cell_type": "code",
      "source": [
        ""
      ],
      "metadata": {
        "id": "fZWWkokEt8W9"
      },
      "execution_count": null,
      "outputs": []
    },
    {
      "cell_type": "code",
      "source": [
        ""
      ],
      "metadata": {
        "id": "PbHkGC_zqRKo"
      },
      "execution_count": null,
      "outputs": []
    }
  ]
}