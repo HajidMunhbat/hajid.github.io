{
  "nbformat": 4,
  "nbformat_minor": 0,
  "metadata": {
    "colab": {
      "name": "Student_Performance_data.ipynb",
      "provenance": [],
      "authorship_tag": "ABX9TyOjQFDikx8t4BMCOvIpVirw",
      "include_colab_link": true
    },
    "kernelspec": {
      "name": "python3",
      "display_name": "Python 3"
    },
    "language_info": {
      "name": "python"
    }
  },
  "cells": [
    {
      "cell_type": "markdown",
      "metadata": {
        "id": "view-in-github",
        "colab_type": "text"
      },
      "source": [
        "<a href=\"https://colab.research.google.com/github/HajidMunhbat/hajid.github.io/blob/main/Student_Performance_data.ipynb\" target=\"_parent\"><img src=\"https://colab.research.google.com/assets/colab-badge.svg\" alt=\"Open In Colab\"/></a>"
      ]
    },
    {
      "cell_type": "code",
      "execution_count": 4,
      "metadata": {
        "colab": {
          "base_uri": "https://localhost:8080/"
        },
        "id": "ExL1JCTSGwlB",
        "outputId": "e94f684f-3dd3-4d05-f8ff-9bc7aa7845d7"
      },
      "outputs": [
        {
          "output_type": "execute_result",
          "data": {
            "text/plain": [
              "649"
            ]
          },
          "metadata": {},
          "execution_count": 4
        }
      ],
      "source": [
        "# load dataset (student Portuguese scores)\n",
        "\n",
        "import pandas as pd\n",
        "d = pd.read_csv('student-por.csv', sep=';')\n",
        "len(d)"
      ]
    },
    {
      "cell_type": "code",
      "source": [
        "# generate binary label (pass/fail) based on G1+G2+G3 (test, grades, each 0-20pts); threshold for passing is sum>=30\n",
        "d['pass'] = d.apply(lambda row: 1 if (row['G1']+row['G2']+row['G3']) >= 35 else 0, axis=1)\n",
        "d = d.drop(['G1','G2','G3'], axis=1)\n",
        "d.head"
      ],
      "metadata": {
        "colab": {
          "base_uri": "https://localhost:8080/"
        },
        "id": "vB26ZWbAI-KH",
        "outputId": "c9a4774a-7fe4-4d9f-9171-6ff3f8603046"
      },
      "execution_count": 5,
      "outputs": [
        {
          "output_type": "execute_result",
          "data": {
            "text/plain": [
              "<bound method NDFrame.head of     school sex  age address famsize Pstatus  Medu  Fedu      Mjob      Fjob  \\\n",
              "0       GP   F   18       U     GT3       A     4     4   at_home   teacher   \n",
              "1       GP   F   17       U     GT3       T     1     1   at_home     other   \n",
              "2       GP   F   15       U     LE3       T     1     1   at_home     other   \n",
              "3       GP   F   15       U     GT3       T     4     2    health  services   \n",
              "4       GP   F   16       U     GT3       T     3     3     other     other   \n",
              "..     ...  ..  ...     ...     ...     ...   ...   ...       ...       ...   \n",
              "644     MS   F   19       R     GT3       T     2     3  services     other   \n",
              "645     MS   F   18       U     LE3       T     3     1   teacher  services   \n",
              "646     MS   F   18       U     GT3       T     1     1     other     other   \n",
              "647     MS   M   17       U     LE3       T     3     1  services  services   \n",
              "648     MS   M   18       R     LE3       T     3     2  services     other   \n",
              "\n",
              "     ... internet romantic  famrel  freetime  goout Dalc Walc health absences  \\\n",
              "0    ...       no       no       4         3      4    1    1      3        4   \n",
              "1    ...      yes       no       5         3      3    1    1      3        2   \n",
              "2    ...      yes       no       4         3      2    2    3      3        6   \n",
              "3    ...      yes      yes       3         2      2    1    1      5        0   \n",
              "4    ...       no       no       4         3      2    1    2      5        0   \n",
              "..   ...      ...      ...     ...       ...    ...  ...  ...    ...      ...   \n",
              "644  ...      yes       no       5         4      2    1    2      5        4   \n",
              "645  ...      yes       no       4         3      4    1    1      1        4   \n",
              "646  ...       no       no       1         1      1    1    1      5        6   \n",
              "647  ...      yes       no       2         4      5    3    4      2        6   \n",
              "648  ...      yes       no       4         4      1    3    4      5        4   \n",
              "\n",
              "    pass  \n",
              "0      0  \n",
              "1      0  \n",
              "2      1  \n",
              "3      1  \n",
              "4      1  \n",
              "..   ...  \n",
              "644    0  \n",
              "645    1  \n",
              "646    0  \n",
              "647    0  \n",
              "648    0  \n",
              "\n",
              "[649 rows x 31 columns]>"
            ]
          },
          "metadata": {},
          "execution_count": 5
        }
      ]
    },
    {
      "cell_type": "code",
      "source": [
        "# use one-hot encoding on categorical columns\n",
        "d = pd.get_dummies(d, columns = ['sex', 'school','address', 'famsize', 'Pstatus',\n",
        "                                 'Mjob', 'Fjob', 'reason', 'guardian', 'schoolsup',\n",
        "                                'famsup', 'paid', 'activities', 'nursery', 'higher',\n",
        "                                 'internet', 'romantic'])\n",
        "d.head()"
      ],
      "metadata": {
        "colab": {
          "base_uri": "https://localhost:8080/",
          "height": 297
        },
        "id": "tfaG2ON6fyiQ",
        "outputId": "dff1e4cb-4d74-41e3-a30f-97c24a610ec6"
      },
      "execution_count": 6,
      "outputs": [
        {
          "output_type": "execute_result",
          "data": {
            "text/plain": [
              "   age  Medu  Fedu  traveltime  studytime  failures  famrel  freetime  goout  \\\n",
              "0   18     4     4           2          2         0       4         3      4   \n",
              "1   17     1     1           1          2         0       5         3      3   \n",
              "2   15     1     1           1          2         0       4         3      2   \n",
              "3   15     4     2           1          3         0       3         2      2   \n",
              "4   16     3     3           1          2         0       4         3      2   \n",
              "\n",
              "   Dalc  ...  activities_no  activities_yes  nursery_no  nursery_yes  \\\n",
              "0     1  ...              1               0           0            1   \n",
              "1     1  ...              1               0           1            0   \n",
              "2     2  ...              1               0           0            1   \n",
              "3     1  ...              0               1           0            1   \n",
              "4     1  ...              1               0           0            1   \n",
              "\n",
              "   higher_no  higher_yes  internet_no  internet_yes  romantic_no  romantic_yes  \n",
              "0          0           1            1             0            1             0  \n",
              "1          0           1            0             1            1             0  \n",
              "2          0           1            0             1            1             0  \n",
              "3          0           1            0             1            0             1  \n",
              "4          0           1            1             0            1             0  \n",
              "\n",
              "[5 rows x 57 columns]"
            ],
            "text/html": [
              "\n",
              "  <div id=\"df-8025a46d-261d-4bca-b6a8-687aa6c18cea\">\n",
              "    <div class=\"colab-df-container\">\n",
              "      <div>\n",
              "<style scoped>\n",
              "    .dataframe tbody tr th:only-of-type {\n",
              "        vertical-align: middle;\n",
              "    }\n",
              "\n",
              "    .dataframe tbody tr th {\n",
              "        vertical-align: top;\n",
              "    }\n",
              "\n",
              "    .dataframe thead th {\n",
              "        text-align: right;\n",
              "    }\n",
              "</style>\n",
              "<table border=\"1\" class=\"dataframe\">\n",
              "  <thead>\n",
              "    <tr style=\"text-align: right;\">\n",
              "      <th></th>\n",
              "      <th>age</th>\n",
              "      <th>Medu</th>\n",
              "      <th>Fedu</th>\n",
              "      <th>traveltime</th>\n",
              "      <th>studytime</th>\n",
              "      <th>failures</th>\n",
              "      <th>famrel</th>\n",
              "      <th>freetime</th>\n",
              "      <th>goout</th>\n",
              "      <th>Dalc</th>\n",
              "      <th>...</th>\n",
              "      <th>activities_no</th>\n",
              "      <th>activities_yes</th>\n",
              "      <th>nursery_no</th>\n",
              "      <th>nursery_yes</th>\n",
              "      <th>higher_no</th>\n",
              "      <th>higher_yes</th>\n",
              "      <th>internet_no</th>\n",
              "      <th>internet_yes</th>\n",
              "      <th>romantic_no</th>\n",
              "      <th>romantic_yes</th>\n",
              "    </tr>\n",
              "  </thead>\n",
              "  <tbody>\n",
              "    <tr>\n",
              "      <th>0</th>\n",
              "      <td>18</td>\n",
              "      <td>4</td>\n",
              "      <td>4</td>\n",
              "      <td>2</td>\n",
              "      <td>2</td>\n",
              "      <td>0</td>\n",
              "      <td>4</td>\n",
              "      <td>3</td>\n",
              "      <td>4</td>\n",
              "      <td>1</td>\n",
              "      <td>...</td>\n",
              "      <td>1</td>\n",
              "      <td>0</td>\n",
              "      <td>0</td>\n",
              "      <td>1</td>\n",
              "      <td>0</td>\n",
              "      <td>1</td>\n",
              "      <td>1</td>\n",
              "      <td>0</td>\n",
              "      <td>1</td>\n",
              "      <td>0</td>\n",
              "    </tr>\n",
              "    <tr>\n",
              "      <th>1</th>\n",
              "      <td>17</td>\n",
              "      <td>1</td>\n",
              "      <td>1</td>\n",
              "      <td>1</td>\n",
              "      <td>2</td>\n",
              "      <td>0</td>\n",
              "      <td>5</td>\n",
              "      <td>3</td>\n",
              "      <td>3</td>\n",
              "      <td>1</td>\n",
              "      <td>...</td>\n",
              "      <td>1</td>\n",
              "      <td>0</td>\n",
              "      <td>1</td>\n",
              "      <td>0</td>\n",
              "      <td>0</td>\n",
              "      <td>1</td>\n",
              "      <td>0</td>\n",
              "      <td>1</td>\n",
              "      <td>1</td>\n",
              "      <td>0</td>\n",
              "    </tr>\n",
              "    <tr>\n",
              "      <th>2</th>\n",
              "      <td>15</td>\n",
              "      <td>1</td>\n",
              "      <td>1</td>\n",
              "      <td>1</td>\n",
              "      <td>2</td>\n",
              "      <td>0</td>\n",
              "      <td>4</td>\n",
              "      <td>3</td>\n",
              "      <td>2</td>\n",
              "      <td>2</td>\n",
              "      <td>...</td>\n",
              "      <td>1</td>\n",
              "      <td>0</td>\n",
              "      <td>0</td>\n",
              "      <td>1</td>\n",
              "      <td>0</td>\n",
              "      <td>1</td>\n",
              "      <td>0</td>\n",
              "      <td>1</td>\n",
              "      <td>1</td>\n",
              "      <td>0</td>\n",
              "    </tr>\n",
              "    <tr>\n",
              "      <th>3</th>\n",
              "      <td>15</td>\n",
              "      <td>4</td>\n",
              "      <td>2</td>\n",
              "      <td>1</td>\n",
              "      <td>3</td>\n",
              "      <td>0</td>\n",
              "      <td>3</td>\n",
              "      <td>2</td>\n",
              "      <td>2</td>\n",
              "      <td>1</td>\n",
              "      <td>...</td>\n",
              "      <td>0</td>\n",
              "      <td>1</td>\n",
              "      <td>0</td>\n",
              "      <td>1</td>\n",
              "      <td>0</td>\n",
              "      <td>1</td>\n",
              "      <td>0</td>\n",
              "      <td>1</td>\n",
              "      <td>0</td>\n",
              "      <td>1</td>\n",
              "    </tr>\n",
              "    <tr>\n",
              "      <th>4</th>\n",
              "      <td>16</td>\n",
              "      <td>3</td>\n",
              "      <td>3</td>\n",
              "      <td>1</td>\n",
              "      <td>2</td>\n",
              "      <td>0</td>\n",
              "      <td>4</td>\n",
              "      <td>3</td>\n",
              "      <td>2</td>\n",
              "      <td>1</td>\n",
              "      <td>...</td>\n",
              "      <td>1</td>\n",
              "      <td>0</td>\n",
              "      <td>0</td>\n",
              "      <td>1</td>\n",
              "      <td>0</td>\n",
              "      <td>1</td>\n",
              "      <td>1</td>\n",
              "      <td>0</td>\n",
              "      <td>1</td>\n",
              "      <td>0</td>\n",
              "    </tr>\n",
              "  </tbody>\n",
              "</table>\n",
              "<p>5 rows × 57 columns</p>\n",
              "</div>\n",
              "      <button class=\"colab-df-convert\" onclick=\"convertToInteractive('df-8025a46d-261d-4bca-b6a8-687aa6c18cea')\"\n",
              "              title=\"Convert this dataframe to an interactive table.\"\n",
              "              style=\"display:none;\">\n",
              "        \n",
              "  <svg xmlns=\"http://www.w3.org/2000/svg\" height=\"24px\"viewBox=\"0 0 24 24\"\n",
              "       width=\"24px\">\n",
              "    <path d=\"M0 0h24v24H0V0z\" fill=\"none\"/>\n",
              "    <path d=\"M18.56 5.44l.94 2.06.94-2.06 2.06-.94-2.06-.94-.94-2.06-.94 2.06-2.06.94zm-11 1L8.5 8.5l.94-2.06 2.06-.94-2.06-.94L8.5 2.5l-.94 2.06-2.06.94zm10 10l.94 2.06.94-2.06 2.06-.94-2.06-.94-.94-2.06-.94 2.06-2.06.94z\"/><path d=\"M17.41 7.96l-1.37-1.37c-.4-.4-.92-.59-1.43-.59-.52 0-1.04.2-1.43.59L10.3 9.45l-7.72 7.72c-.78.78-.78 2.05 0 2.83L4 21.41c.39.39.9.59 1.41.59.51 0 1.02-.2 1.41-.59l7.78-7.78 2.81-2.81c.8-.78.8-2.07 0-2.86zM5.41 20L4 18.59l7.72-7.72 1.47 1.35L5.41 20z\"/>\n",
              "  </svg>\n",
              "      </button>\n",
              "      \n",
              "  <style>\n",
              "    .colab-df-container {\n",
              "      display:flex;\n",
              "      flex-wrap:wrap;\n",
              "      gap: 12px;\n",
              "    }\n",
              "\n",
              "    .colab-df-convert {\n",
              "      background-color: #E8F0FE;\n",
              "      border: none;\n",
              "      border-radius: 50%;\n",
              "      cursor: pointer;\n",
              "      display: none;\n",
              "      fill: #1967D2;\n",
              "      height: 32px;\n",
              "      padding: 0 0 0 0;\n",
              "      width: 32px;\n",
              "    }\n",
              "\n",
              "    .colab-df-convert:hover {\n",
              "      background-color: #E2EBFA;\n",
              "      box-shadow: 0px 1px 2px rgba(60, 64, 67, 0.3), 0px 1px 3px 1px rgba(60, 64, 67, 0.15);\n",
              "      fill: #174EA6;\n",
              "    }\n",
              "\n",
              "    [theme=dark] .colab-df-convert {\n",
              "      background-color: #3B4455;\n",
              "      fill: #D2E3FC;\n",
              "    }\n",
              "\n",
              "    [theme=dark] .colab-df-convert:hover {\n",
              "      background-color: #434B5C;\n",
              "      box-shadow: 0px 1px 3px 1px rgba(0, 0, 0, 0.15);\n",
              "      filter: drop-shadow(0px 1px 2px rgba(0, 0, 0, 0.3));\n",
              "      fill: #FFFFFF;\n",
              "    }\n",
              "  </style>\n",
              "\n",
              "      <script>\n",
              "        const buttonEl =\n",
              "          document.querySelector('#df-8025a46d-261d-4bca-b6a8-687aa6c18cea button.colab-df-convert');\n",
              "        buttonEl.style.display =\n",
              "          google.colab.kernel.accessAllowed ? 'block' : 'none';\n",
              "\n",
              "        async function convertToInteractive(key) {\n",
              "          const element = document.querySelector('#df-8025a46d-261d-4bca-b6a8-687aa6c18cea');\n",
              "          const dataTable =\n",
              "            await google.colab.kernel.invokeFunction('convertToInteractive',\n",
              "                                                     [key], {});\n",
              "          if (!dataTable) return;\n",
              "\n",
              "          const docLinkHtml = 'Like what you see? Visit the ' +\n",
              "            '<a target=\"_blank\" href=https://colab.research.google.com/notebooks/data_table.ipynb>data table notebook</a>'\n",
              "            + ' to learn more about interactive tables.';\n",
              "          element.innerHTML = '';\n",
              "          dataTable['output_type'] = 'display_data';\n",
              "          await google.colab.output.renderOutput(dataTable, element);\n",
              "          const docLink = document.createElement('div');\n",
              "          docLink.innerHTML = docLinkHtml;\n",
              "          element.appendChild(docLink);\n",
              "        }\n",
              "      </script>\n",
              "    </div>\n",
              "  </div>\n",
              "  "
            ]
          },
          "metadata": {},
          "execution_count": 6
        }
      ]
    },
    {
      "cell_type": "code",
      "source": [
        "# shuffle rows\n",
        "d = d.sample(frac=1)\n",
        "# split training and testing data\n",
        "d_train = d[:500]\n",
        "d_test = d[500:]\n",
        "\n",
        "d_train_att = d_train.drop(['pass'], axis=1)\n",
        "d_train_pass = d_train['pass']\n",
        "\n",
        "d_test_att = d_test.drop(['pass'], axis=1)\n",
        "d_test_pass = d_test['pass']\n",
        "\n",
        "d_att = d.drop(['pass'], axis=1)\n",
        "d_pass = d['pass']\n",
        "\n",
        "# number of passing students in whole dataset:\n",
        "import numpy as np\n",
        "print('Passing: %d out of %d (%.2f%%)' % (np.sum(d_pass), len(d_pass), 100*float(np.sum(d_pass)) / len(d_pass)))\n"
      ],
      "metadata": {
        "colab": {
          "base_uri": "https://localhost:8080/"
        },
        "id": "D16byyuxhjvO",
        "outputId": "1d7a11b1-9ab1-4e1b-b0fc-7c5f6e41d58b"
      },
      "execution_count": 7,
      "outputs": [
        {
          "output_type": "stream",
          "name": "stdout",
          "text": [
            "Passing: 328 out of 649 (50.54%)\n"
          ]
        }
      ]
    },
    {
      "cell_type": "code",
      "source": [
        "# fit a decision tree\n",
        "from sklearn import tree\n",
        "t = tree.DecisionTreeClassifier(criterion='entropy', max_depth=5)\n",
        "t = t.fit(d_train_att, d_train_pass)"
      ],
      "metadata": {
        "id": "D2xB1a1yjznc"
      },
      "execution_count": 8,
      "outputs": []
    },
    {
      "cell_type": "code",
      "source": [
        "# save tree\n",
        "tree.export_graphviz(t, out_file='student-performance.dot', label='all', impurity=False, proportion=True,\n",
        "                     feature_names=list(d_train_att), class_names=['fail', 'pass'],\n",
        "                     filled=True, rounded=True)"
      ],
      "metadata": {
        "id": "OKSpnUcGjzyP"
      },
      "execution_count": 10,
      "outputs": []
    },
    {
      "cell_type": "code",
      "source": [
        "t.score(d_test_att, d_test_pass)"
      ],
      "metadata": {
        "colab": {
          "base_uri": "https://localhost:8080/"
        },
        "id": "aij_DNoYkVqu",
        "outputId": "31835854-a499-4820-eb4f-3fee60ab7fb3"
      },
      "execution_count": 11,
      "outputs": [
        {
          "output_type": "execute_result",
          "data": {
            "text/plain": [
              "0.6778523489932886"
            ]
          },
          "metadata": {},
          "execution_count": 11
        }
      ]
    },
    {
      "cell_type": "code",
      "source": [
        "from sklearn.model_selection import cross_val_score\n",
        "scores = cross_val_score(t, d_att, d_pass, cv=5)\n",
        "# show average score and +/- two standard deviations away (covering 95% of scores)\n",
        "print('Accuracy: %0.2f (+/- %0.2f)' % (scores.mean(), scores.std() * 2))"
      ],
      "metadata": {
        "colab": {
          "base_uri": "https://localhost:8080/"
        },
        "id": "jhvB04zblbdo",
        "outputId": "6fc6e9a9-e01c-498e-a75a-a197c161a9cc"
      },
      "execution_count": 14,
      "outputs": [
        {
          "output_type": "stream",
          "name": "stdout",
          "text": [
            "Accuracy: 0.67 (+/- 0.05)\n"
          ]
        }
      ]
    },
    {
      "cell_type": "code",
      "source": [
        "for max_depth in range(1, 20):\n",
        "  t = tree.DecisionTreeClassifier(criterion='entropy', max_depth=max_depth)\n",
        "  scores = cross_val_score(t, d_att, d_pass, cv=5)\n",
        "  print('Max depth: %d, Accuracy: %0.2f (+/- %0.2f)' % (max_depth, scores.mean(), scores.std() * 2))"
      ],
      "metadata": {
        "colab": {
          "base_uri": "https://localhost:8080/"
        },
        "id": "oP_HbkK0lbm0",
        "outputId": "3efa0def-e2f7-40cd-d5ea-5c44e377e60d"
      },
      "execution_count": 15,
      "outputs": [
        {
          "output_type": "stream",
          "name": "stdout",
          "text": [
            "Max depth: 1, Accuracy: 0.64 (+/- 0.09)\n",
            "Max depth: 2, Accuracy: 0.69 (+/- 0.09)\n",
            "Max depth: 3, Accuracy: 0.67 (+/- 0.10)\n",
            "Max depth: 4, Accuracy: 0.68 (+/- 0.05)\n",
            "Max depth: 5, Accuracy: 0.66 (+/- 0.04)\n",
            "Max depth: 6, Accuracy: 0.69 (+/- 0.07)\n",
            "Max depth: 7, Accuracy: 0.68 (+/- 0.09)\n",
            "Max depth: 8, Accuracy: 0.68 (+/- 0.05)\n",
            "Max depth: 9, Accuracy: 0.69 (+/- 0.06)\n",
            "Max depth: 10, Accuracy: 0.69 (+/- 0.04)\n",
            "Max depth: 11, Accuracy: 0.66 (+/- 0.05)\n",
            "Max depth: 12, Accuracy: 0.67 (+/- 0.04)\n",
            "Max depth: 13, Accuracy: 0.67 (+/- 0.06)\n",
            "Max depth: 14, Accuracy: 0.66 (+/- 0.04)\n",
            "Max depth: 15, Accuracy: 0.66 (+/- 0.03)\n",
            "Max depth: 16, Accuracy: 0.67 (+/- 0.04)\n",
            "Max depth: 17, Accuracy: 0.66 (+/- 0.05)\n",
            "Max depth: 18, Accuracy: 0.65 (+/- 0.04)\n",
            "Max depth: 19, Accuracy: 0.66 (+/- 0.03)\n"
          ]
        }
      ]
    },
    {
      "cell_type": "code",
      "source": [
        "depth_acc = np.empty((19, 3), float)\n",
        "i= 0\n",
        "for max_depth in range(1, 20):\n",
        "  t = tree.DecisionTreeClassifier(criterion='entropy', max_depth=max_depth)\n",
        "  scores = cross_val_score(t, d_att, d_pass, cv=5)\n",
        "  depth_acc[i,0] = max_depth\n",
        "  depth_acc[i,1] = scores.mean()\n",
        "  depth_acc[i,2] = scores.std() * 2\n",
        "  i += 1\n",
        "  \n",
        "depth_acc"
      ],
      "metadata": {
        "colab": {
          "base_uri": "https://localhost:8080/"
        },
        "id": "17QsHLWMlbxN",
        "outputId": "626960f6-7680-4886-b3f2-387c3e997198"
      },
      "execution_count": 16,
      "outputs": [
        {
          "output_type": "execute_result",
          "data": {
            "text/plain": [
              "array([[1.00000000e+00, 6.37865236e-01, 9.44484497e-02],\n",
              "       [2.00000000e+00, 6.87203339e-01, 8.95842009e-02],\n",
              "       [3.00000000e+00, 6.73381038e-01, 1.02793481e-01],\n",
              "       [4.00000000e+00, 6.79511032e-01, 5.18985889e-02],\n",
              "       [5.00000000e+00, 6.65664878e-01, 3.49167945e-02],\n",
              "       [6.00000000e+00, 6.84197973e-01, 7.86883830e-02],\n",
              "       [7.00000000e+00, 6.84162194e-01, 1.08415588e-01],\n",
              "       [8.00000000e+00, 6.73381038e-01, 3.16917899e-02],\n",
              "       [9.00000000e+00, 6.99534884e-01, 2.92494844e-02],\n",
              "       [1.00000000e+01, 6.85664878e-01, 6.91479656e-02],\n",
              "       [1.10000000e+01, 6.65569469e-01, 6.43840876e-02],\n",
              "       [1.20000000e+01, 6.76410256e-01, 4.05614768e-02],\n",
              "       [1.30000000e+01, 6.45605247e-01, 7.21936005e-02],\n",
              "       [1.40000000e+01, 6.73321407e-01, 5.93393786e-02],\n",
              "       [1.50000000e+01, 6.65652952e-01, 1.73691895e-02],\n",
              "       [1.60000000e+01, 6.65629100e-01, 2.14309113e-02],\n",
              "       [1.70000000e+01, 6.67191413e-01, 2.92739820e-02],\n",
              "       [1.80000000e+01, 6.50232558e-01, 3.15427991e-02],\n",
              "       [1.90000000e+01, 6.59487179e-01, 5.42136422e-02]])"
            ]
          },
          "metadata": {},
          "execution_count": 16
        }
      ]
    },
    {
      "cell_type": "code",
      "source": [
        "import matplotlib.pyplot as plt\n",
        "fig, ax = plt.subplots()\n",
        "ax.errorbar(depth_acc[:,0], depth_acc[:,1], yerr=depth_acc[:,2])\n",
        "plt.show()"
      ],
      "metadata": {
        "colab": {
          "base_uri": "https://localhost:8080/",
          "height": 265
        },
        "id": "gBUar0EHoGn9",
        "outputId": "2b659d84-93f5-4ef7-fd24-d94a82330c13"
      },
      "execution_count": 17,
      "outputs": [
        {
          "output_type": "display_data",
          "data": {
            "text/plain": [
              "<Figure size 432x288 with 1 Axes>"
            ],
            "image/png": "[encoded data removed]"
          },
          "metadata": {
            "needs_background": "light"
          }
        }
      ]
    },
    {
      "cell_type": "code",
      "source": [
        ""
      ],
      "metadata": {
        "id": "MC6omfDHoGxQ"
      },
      "execution_count": null,
      "outputs": []
    },
    {
      "cell_type": "markdown",
      "source": [
        "# New Section"
      ],
      "metadata": {
        "id": "gT573qGAIynD"
      }
    }
  ]
}